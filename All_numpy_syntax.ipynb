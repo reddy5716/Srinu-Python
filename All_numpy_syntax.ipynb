{
  "nbformat": 4,
  "nbformat_minor": 0,
  "metadata": {
    "colab": {
      "provenance": []
    },
    "kernelspec": {
      "name": "python3",
      "display_name": "Python 3"
    },
    "language_info": {
      "name": "python"
    }
  },
  "cells": [
    {
      "cell_type": "code",
      "execution_count": 1,
      "metadata": {
        "id": "d-W02wYJjX-6"
      },
      "outputs": [],
      "source": [
        "import numpy as np\n"
      ]
    },
    {
      "cell_type": "code",
      "source": [
        "#printing a random numbers"
      ],
      "metadata": {
        "id": "6Y9P4oSUkROX"
      },
      "execution_count": 2,
      "outputs": []
    },
    {
      "cell_type": "code",
      "source": [
        "data = np.random.randint(1,10,15)"
      ],
      "metadata": {
        "id": "NEll9T1xkRLC"
      },
      "execution_count": 11,
      "outputs": []
    },
    {
      "cell_type": "code",
      "source": [
        "data"
      ],
      "metadata": {
        "colab": {
          "base_uri": "https://localhost:8080/"
        },
        "id": "CrkF3o6kkRIj",
        "outputId": "57c4d9a1-971f-4807-8d9a-1133a8ba7d16"
      },
      "execution_count": 12,
      "outputs": [
        {
          "output_type": "execute_result",
          "data": {
            "text/plain": [
              "array([8, 2, 7, 9, 5, 7, 6, 3, 8, 5, 4, 4, 5, 5, 4])"
            ]
          },
          "metadata": {},
          "execution_count": 12
        }
      ]
    },
    {
      "cell_type": "code",
      "source": [
        "data+2"
      ],
      "metadata": {
        "colab": {
          "base_uri": "https://localhost:8080/"
        },
        "id": "9QvMGrvqkRGX",
        "outputId": "857058d1-b480-48da-d72e-f6f0bd7df335"
      },
      "execution_count": 13,
      "outputs": [
        {
          "output_type": "execute_result",
          "data": {
            "text/plain": [
              "array([10,  4,  9, 11,  7,  9,  8,  5, 10,  7,  6,  6,  7,  7,  6])"
            ]
          },
          "metadata": {},
          "execution_count": 13
        }
      ]
    },
    {
      "cell_type": "code",
      "source": [
        "data-2"
      ],
      "metadata": {
        "colab": {
          "base_uri": "https://localhost:8080/"
        },
        "id": "yjT9HYlOkRDs",
        "outputId": "25af0ec9-4239-4b20-ac1d-d07081b77439"
      },
      "execution_count": 15,
      "outputs": [
        {
          "output_type": "execute_result",
          "data": {
            "text/plain": [
              "array([6, 0, 5, 7, 3, 5, 4, 1, 6, 3, 2, 2, 3, 3, 2])"
            ]
          },
          "metadata": {},
          "execution_count": 15
        }
      ]
    },
    {
      "cell_type": "code",
      "source": [
        "data*2"
      ],
      "metadata": {
        "colab": {
          "base_uri": "https://localhost:8080/"
        },
        "id": "Wwc22fkrkRBX",
        "outputId": "4a0de132-1faf-4b18-8700-d62eb844b8c4"
      },
      "execution_count": 16,
      "outputs": [
        {
          "output_type": "execute_result",
          "data": {
            "text/plain": [
              "array([16,  4, 14, 18, 10, 14, 12,  6, 16, 10,  8,  8, 10, 10,  8])"
            ]
          },
          "metadata": {},
          "execution_count": 16
        }
      ]
    },
    {
      "cell_type": "code",
      "source": [
        "# to printing a matrix form"
      ],
      "metadata": {
        "id": "U_Fwa2pakQ8o"
      },
      "execution_count": null,
      "outputs": []
    },
    {
      "cell_type": "code",
      "source": [
        "data = np.random.randint(2,5,(6,4))"
      ],
      "metadata": {
        "id": "1FfpjSdrlJ9n"
      },
      "execution_count": 17,
      "outputs": []
    },
    {
      "cell_type": "code",
      "source": [
        "data"
      ],
      "metadata": {
        "colab": {
          "base_uri": "https://localhost:8080/"
        },
        "id": "t63M40QslJ6D",
        "outputId": "1cd39b7c-efdd-4eac-a9bb-8b32017fbd40"
      },
      "execution_count": 18,
      "outputs": [
        {
          "output_type": "execute_result",
          "data": {
            "text/plain": [
              "array([[2, 3, 4, 2],\n",
              "       [2, 3, 3, 3],\n",
              "       [4, 4, 2, 2],\n",
              "       [4, 2, 3, 3],\n",
              "       [3, 2, 3, 3],\n",
              "       [2, 4, 2, 2]])"
            ]
          },
          "metadata": {},
          "execution_count": 18
        }
      ]
    },
    {
      "cell_type": "code",
      "source": [
        "x=np.random.randint(2,3,(4,4))"
      ],
      "metadata": {
        "id": "Qzu53As5lKpx"
      },
      "execution_count": 20,
      "outputs": []
    },
    {
      "cell_type": "code",
      "source": [
        "x"
      ],
      "metadata": {
        "colab": {
          "base_uri": "https://localhost:8080/"
        },
        "id": "vCjXm6ZalKmK",
        "outputId": "4f4204be-7257-4154-bb51-06772523600c"
      },
      "execution_count": 21,
      "outputs": [
        {
          "output_type": "execute_result",
          "data": {
            "text/plain": [
              "array([[2, 2, 2, 2],\n",
              "       [2, 2, 2, 2],\n",
              "       [2, 2, 2, 2],\n",
              "       [2, 2, 2, 2]])"
            ]
          },
          "metadata": {},
          "execution_count": 21
        }
      ]
    },
    {
      "cell_type": "code",
      "source": [
        "y=np.random.randint(3,6,(4,4))"
      ],
      "metadata": {
        "id": "GnPN1XdUlJ3C"
      },
      "execution_count": 23,
      "outputs": []
    },
    {
      "cell_type": "code",
      "source": [
        "y"
      ],
      "metadata": {
        "colab": {
          "base_uri": "https://localhost:8080/"
        },
        "id": "30opmQXHlJ0L",
        "outputId": "8e0b5745-22bb-4836-80c4-b66770952cc2"
      },
      "execution_count": 24,
      "outputs": [
        {
          "output_type": "execute_result",
          "data": {
            "text/plain": [
              "array([[3, 5, 5, 3],\n",
              "       [5, 3, 5, 4],\n",
              "       [5, 3, 3, 5],\n",
              "       [4, 3, 5, 5]])"
            ]
          },
          "metadata": {},
          "execution_count": 24
        }
      ]
    },
    {
      "cell_type": "code",
      "source": [
        "x+y"
      ],
      "metadata": {
        "colab": {
          "base_uri": "https://localhost:8080/"
        },
        "id": "OWMGDh22lJxS",
        "outputId": "9ffbd832-075d-44d4-b65a-ba7a98914232"
      },
      "execution_count": 25,
      "outputs": [
        {
          "output_type": "execute_result",
          "data": {
            "text/plain": [
              "array([[5, 7, 7, 5],\n",
              "       [7, 5, 7, 6],\n",
              "       [7, 5, 5, 7],\n",
              "       [6, 5, 7, 7]])"
            ]
          },
          "metadata": {},
          "execution_count": 25
        }
      ]
    },
    {
      "cell_type": "code",
      "source": [
        "x-y"
      ],
      "metadata": {
        "colab": {
          "base_uri": "https://localhost:8080/"
        },
        "id": "JwFMr2O8lJue",
        "outputId": "db34d0fe-a98e-45b6-ff5b-3b3922658826"
      },
      "execution_count": 26,
      "outputs": [
        {
          "output_type": "execute_result",
          "data": {
            "text/plain": [
              "array([[-1, -3, -3, -1],\n",
              "       [-3, -1, -3, -2],\n",
              "       [-3, -1, -1, -3],\n",
              "       [-2, -1, -3, -3]])"
            ]
          },
          "metadata": {},
          "execution_count": 26
        }
      ]
    },
    {
      "cell_type": "code",
      "source": [
        "x*y"
      ],
      "metadata": {
        "colab": {
          "base_uri": "https://localhost:8080/"
        },
        "id": "o-1BqA7KlJr1",
        "outputId": "61d3cc1d-7494-45aa-b039-f401f448c199"
      },
      "execution_count": 27,
      "outputs": [
        {
          "output_type": "execute_result",
          "data": {
            "text/plain": [
              "array([[ 6, 10, 10,  6],\n",
              "       [10,  6, 10,  8],\n",
              "       [10,  6,  6, 10],\n",
              "       [ 8,  6, 10, 10]])"
            ]
          },
          "metadata": {},
          "execution_count": 27
        }
      ]
    },
    {
      "cell_type": "code",
      "source": [
        "x=np.random.randint(10,30,(7,4))"
      ],
      "metadata": {
        "id": "vndSk2ZhlJpJ"
      },
      "execution_count": 44,
      "outputs": []
    },
    {
      "cell_type": "code",
      "source": [
        "x.shape"
      ],
      "metadata": {
        "colab": {
          "base_uri": "https://localhost:8080/"
        },
        "id": "KGpjY95nlJmZ",
        "outputId": "2e023670-4807-40a5-f913-3fd11555a070"
      },
      "execution_count": 45,
      "outputs": [
        {
          "output_type": "execute_result",
          "data": {
            "text/plain": [
              "(7, 4)"
            ]
          },
          "metadata": {},
          "execution_count": 45
        }
      ]
    },
    {
      "cell_type": "code",
      "source": [
        "data=np.random.randint(1,10,(3,3))"
      ],
      "metadata": {
        "id": "WVusK5WQoAn4"
      },
      "execution_count": 49,
      "outputs": []
    },
    {
      "cell_type": "code",
      "source": [
        "data"
      ],
      "metadata": {
        "colab": {
          "base_uri": "https://localhost:8080/"
        },
        "id": "kyaJHVvPoAk1",
        "outputId": "469e1293-3fd4-40a7-f62b-96f0e698e1d4"
      },
      "execution_count": 50,
      "outputs": [
        {
          "output_type": "execute_result",
          "data": {
            "text/plain": [
              "array([[3, 7, 9],\n",
              "       [8, 9, 7],\n",
              "       [1, 3, 3]])"
            ]
          },
          "metadata": {},
          "execution_count": 50
        }
      ]
    },
    {
      "cell_type": "code",
      "source": [
        "data.argmax()"
      ],
      "metadata": {
        "colab": {
          "base_uri": "https://localhost:8080/"
        },
        "id": "OkaO9NwLoAiE",
        "outputId": "c2a71c08-2ac1-4d38-c047-72e025f7aa10"
      },
      "execution_count": 51,
      "outputs": [
        {
          "output_type": "execute_result",
          "data": {
            "text/plain": [
              "np.int64(2)"
            ]
          },
          "metadata": {},
          "execution_count": 51
        }
      ]
    },
    {
      "cell_type": "code",
      "source": [
        "data.argmin()"
      ],
      "metadata": {
        "colab": {
          "base_uri": "https://localhost:8080/"
        },
        "id": "f_nG6BmKoAfp",
        "outputId": "f9f81895-3c3a-4aa3-ab3a-3b34e23e4514"
      },
      "execution_count": 53,
      "outputs": [
        {
          "output_type": "execute_result",
          "data": {
            "text/plain": [
              "np.int64(6)"
            ]
          },
          "metadata": {},
          "execution_count": 53
        }
      ]
    },
    {
      "cell_type": "code",
      "source": [
        "data.sum(axis=0)"
      ],
      "metadata": {
        "colab": {
          "base_uri": "https://localhost:8080/"
        },
        "id": "N57vv6hKoAdI",
        "outputId": "bd2dc139-d9a6-4bd2-93c5-30d2b6788705"
      },
      "execution_count": 54,
      "outputs": [
        {
          "output_type": "execute_result",
          "data": {
            "text/plain": [
              "array([12, 19, 19])"
            ]
          },
          "metadata": {},
          "execution_count": 54
        }
      ]
    },
    {
      "cell_type": "code",
      "source": [
        "data.sum(axis=1)"
      ],
      "metadata": {
        "colab": {
          "base_uri": "https://localhost:8080/"
        },
        "id": "EUD4tl5CoAar",
        "outputId": "5aebc673-3e30-4d96-81c9-68981d0c5a4a"
      },
      "execution_count": 55,
      "outputs": [
        {
          "output_type": "execute_result",
          "data": {
            "text/plain": [
              "array([19, 24,  7])"
            ]
          },
          "metadata": {},
          "execution_count": 55
        }
      ]
    },
    {
      "cell_type": "code",
      "source": [
        "# mean,median"
      ],
      "metadata": {
        "id": "TEI_KeVVpgWa"
      },
      "execution_count": null,
      "outputs": []
    },
    {
      "cell_type": "code",
      "source": [
        "data.mean()"
      ],
      "metadata": {
        "colab": {
          "base_uri": "https://localhost:8080/"
        },
        "id": "3zjvi55Mn-bs",
        "outputId": "a7a5675c-24e5-41e6-9def-78da7f2bfcea"
      },
      "execution_count": 57,
      "outputs": [
        {
          "output_type": "execute_result",
          "data": {
            "text/plain": [
              "np.float64(5.555555555555555)"
            ]
          },
          "metadata": {},
          "execution_count": 57
        }
      ]
    },
    {
      "cell_type": "code",
      "source": [
        "np.median(data)"
      ],
      "metadata": {
        "colab": {
          "base_uri": "https://localhost:8080/"
        },
        "id": "v77HFAm6n-TZ",
        "outputId": "59aab710-55b1-4dc4-da31-f3adc8b7aa0d"
      },
      "execution_count": 59,
      "outputs": [
        {
          "output_type": "execute_result",
          "data": {
            "text/plain": [
              "np.float64(7.0)"
            ]
          },
          "metadata": {},
          "execution_count": 59
        }
      ]
    },
    {
      "cell_type": "code",
      "source": [
        "#to find mode we can us scipy as stats"
      ],
      "metadata": {
        "id": "F5NDGwocpYFb"
      },
      "execution_count": null,
      "outputs": []
    },
    {
      "cell_type": "code",
      "source": [
        "import numpy as np\n",
        "from scipy import  stats"
      ],
      "metadata": {
        "id": "UbCOqsNgpYCR"
      },
      "execution_count": 74,
      "outputs": []
    },
    {
      "cell_type": "code",
      "source": [
        "data"
      ],
      "metadata": {
        "colab": {
          "base_uri": "https://localhost:8080/"
        },
        "id": "gZjsBjPjpX4c",
        "outputId": "49ab6bdc-1f3e-4cd7-c30c-4c740d837a7e"
      },
      "execution_count": 68,
      "outputs": [
        {
          "output_type": "execute_result",
          "data": {
            "text/plain": [
              "array([[3, 7, 9],\n",
              "       [8, 9, 7],\n",
              "       [1, 3, 3]])"
            ]
          },
          "metadata": {},
          "execution_count": 68
        }
      ]
    },
    {
      "cell_type": "code",
      "source": [
        "stats.mode(data)"
      ],
      "metadata": {
        "colab": {
          "base_uri": "https://localhost:8080/"
        },
        "id": "VQ_g0IdQqUnZ",
        "outputId": "20ff0b9f-141f-465e-ef0d-02399cebcd1f"
      },
      "execution_count": 75,
      "outputs": [
        {
          "output_type": "execute_result",
          "data": {
            "text/plain": [
              "ModeResult(mode=array([1, 3, 3]), count=array([1, 1, 1]))"
            ]
          },
          "metadata": {},
          "execution_count": 75
        }
      ]
    },
    {
      "cell_type": "code",
      "source": [
        "x.cumsum()"
      ],
      "metadata": {
        "colab": {
          "base_uri": "https://localhost:8080/"
        },
        "id": "laQkS7YnlJj4",
        "outputId": "28ec22a0-5c93-4d45-b8cb-ff1a3e678c05"
      },
      "execution_count": 48,
      "outputs": [
        {
          "output_type": "execute_result",
          "data": {
            "text/plain": [
              "array([ 11,  37,  62,  79,  95, 105, 130, 147, 166, 181, 192, 217, 232,\n",
              "       246, 269, 288, 300, 311, 338, 365, 390, 413, 425, 442, 459, 485,\n",
              "       511, 530])"
            ]
          },
          "metadata": {},
          "execution_count": 48
        }
      ]
    }
  ]
}