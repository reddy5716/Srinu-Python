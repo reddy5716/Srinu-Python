{
  "nbformat": 4,
  "nbformat_minor": 0,
  "metadata": {
    "colab": {
      "provenance": []
    },
    "kernelspec": {
      "name": "python3",
      "display_name": "Python 3"
    },
    "language_info": {
      "name": "python"
    }
  },
  "cells": [
    {
      "cell_type": "code",
      "execution_count": null,
      "metadata": {
        "colab": {
          "base_uri": "https://localhost:8080/"
        },
        "id": "WzkoBL7d9r_l",
        "outputId": "32a26329-b51d-4a58-c1ec-b6249d7ffaa9"
      },
      "outputs": [
        {
          "output_type": "execute_result",
          "data": {
            "text/plain": [
              "dict"
            ]
          },
          "metadata": {},
          "execution_count": 1
        }
      ],
      "source": [
        "d={\"key\":10,}\n",
        "type(d)"
      ]
    },
    {
      "cell_type": "code",
      "source": [
        "d"
      ],
      "metadata": {
        "colab": {
          "base_uri": "https://localhost:8080/"
        },
        "id": "p9bWqlzV_oQ7",
        "outputId": "906700f5-0f25-48b9-80fa-ddee5551b3ee"
      },
      "execution_count": null,
      "outputs": [
        {
          "output_type": "execute_result",
          "data": {
            "text/plain": [
              "{'key': 10}"
            ]
          },
          "metadata": {},
          "execution_count": 26
        }
      ]
    },
    {
      "cell_type": "code",
      "source": [
        "my_dict = {\n",
        "    \"name\": \"srinu\",\n",
        "    \"age\": 21,\n",
        "    \"location\": \"singavaram\"\n",
        "}"
      ],
      "metadata": {
        "id": "pknSCnnS_oNS"
      },
      "execution_count": null,
      "outputs": []
    },
    {
      "cell_type": "code",
      "source": [
        "my_dict[\"name\"]"
      ],
      "metadata": {
        "colab": {
          "base_uri": "https://localhost:8080/",
          "height": 35
        },
        "id": "WDqFgN2y_oKo",
        "outputId": "4cd7fc20-384f-406f-9f95-7683639bbc70"
      },
      "execution_count": null,
      "outputs": [
        {
          "output_type": "execute_result",
          "data": {
            "text/plain": [
              "'srinu'"
            ],
            "application/vnd.google.colaboratory.intrinsic+json": {
              "type": "string"
            }
          },
          "metadata": {},
          "execution_count": 28
        }
      ]
    },
    {
      "cell_type": "code",
      "source": [
        "my_dict"
      ],
      "metadata": {
        "colab": {
          "base_uri": "https://localhost:8080/"
        },
        "id": "SsidVoiA_oIQ",
        "outputId": "8e9dba7e-d659-4bfa-cd21-ab4bc8d9395b"
      },
      "execution_count": null,
      "outputs": [
        {
          "output_type": "execute_result",
          "data": {
            "text/plain": [
              "{'name': 'srinu', 'age': 21, 'location': 'singavaram'}"
            ]
          },
          "metadata": {},
          "execution_count": 29
        }
      ]
    },
    {
      "cell_type": "code",
      "source": [
        "mixed_dict = {\n",
        "    \"name\": \"srinu\",\n",
        "    666: [45,87,89],\n",
        "    2.14: {\"unit\": \"pi\"},\n",
        "    True: \"Active\"}"
      ],
      "metadata": {
        "id": "EnE7T0Gd_oFx"
      },
      "execution_count": null,
      "outputs": []
    },
    {
      "cell_type": "code",
      "source": [
        "mixed_dict"
      ],
      "metadata": {
        "colab": {
          "base_uri": "https://localhost:8080/"
        },
        "id": "Inwm4QNe_oC5",
        "outputId": "d91f100e-a76d-43f9-e987-5ec295eddd28"
      },
      "execution_count": null,
      "outputs": [
        {
          "output_type": "execute_result",
          "data": {
            "text/plain": [
              "{'name': 'srinu', 666: [45, 87, 89], 2.14: {'unit': 'pi'}, True: 'Active'}"
            ]
          },
          "metadata": {},
          "execution_count": 64
        }
      ]
    },
    {
      "cell_type": "code",
      "source": [
        "mixed_dict[666][-1]"
      ],
      "metadata": {
        "colab": {
          "base_uri": "https://localhost:8080/"
        },
        "id": "DOSFRG4k_oAo",
        "outputId": "fb0a95b4-a0c6-4c9a-eaab-af7d12683036"
      },
      "execution_count": null,
      "outputs": [
        {
          "output_type": "execute_result",
          "data": {
            "text/plain": [
              "89"
            ]
          },
          "metadata": {},
          "execution_count": 65
        }
      ]
    },
    {
      "cell_type": "code",
      "source": [],
      "metadata": {
        "id": "FR24YV_U_n9q"
      },
      "execution_count": null,
      "outputs": []
    },
    {
      "cell_type": "code",
      "source": [
        "employee = {\n",
        "    \"id\": 666,\n",
        "    \"name\": \"srinu reddy\",\n",
        "    \"department\": {\n",
        "        \"name\": \"Data Science\",\n",
        "        \"location\": \"bangalore\",\n",
        "        \"floor\": 6\n",
        "    },\n",
        "    \"is_active\": True\n",
        "}"
      ],
      "metadata": {
        "id": "UIBeNmDDxWro"
      },
      "execution_count": null,
      "outputs": []
    },
    {
      "cell_type": "code",
      "source": [
        "employee[\"name\"]"
      ],
      "metadata": {
        "colab": {
          "base_uri": "https://localhost:8080/",
          "height": 35
        },
        "id": "yeQPGLON_n7B",
        "outputId": "7a5d8d20-4d4e-4e17-acd0-46041dc34958"
      },
      "execution_count": null,
      "outputs": [
        {
          "output_type": "execute_result",
          "data": {
            "text/plain": [
              "'srinu reddy'"
            ],
            "application/vnd.google.colaboratory.intrinsic+json": {
              "type": "string"
            }
          },
          "metadata": {},
          "execution_count": 73
        }
      ]
    },
    {
      "cell_type": "code",
      "source": [
        "employee['department']['location']"
      ],
      "metadata": {
        "colab": {
          "base_uri": "https://localhost:8080/",
          "height": 35
        },
        "id": "OOcY6Nr9_n4v",
        "outputId": "41a0bdcb-7160-4144-ef1a-89d9ba39cec7"
      },
      "execution_count": null,
      "outputs": [
        {
          "output_type": "execute_result",
          "data": {
            "text/plain": [
              "'bangalore'"
            ],
            "application/vnd.google.colaboratory.intrinsic+json": {
              "type": "string"
            }
          },
          "metadata": {},
          "execution_count": 78
        }
      ]
    },
    {
      "cell_type": "code",
      "source": [
        "temp={\n",
        "   \"lat\":33.44,\n",
        "   \"lon\":-94.04,\n",
        "   \"timezone\":\"America/Chicago\",\n",
        "   \"timezone_offset\":-18000,\n",
        "   \"current\":{\n",
        "      \"dt\":1684929490,\n",
        "      \"sunrise\":1684926645,\n",
        "      \"sunset\":1684977332,\n",
        "      \"temp\":292.55,\n",
        "      \"feels_like\":292.87,\n",
        "      \"pressure\":1014,\n",
        "      \"humidity\":89,\n",
        "      \"dew_point\":290.69,\n",
        "      \"uvi\":0.16,\n",
        "      \"clouds\":53,\n",
        "      \"visibility\":10000,\n",
        "      \"wind_speed\":3.13,\n",
        "      \"wind_deg\":93,\n",
        "      \"wind_gust\":6.71,\n",
        "      \"weather\":[\n",
        "         {\n",
        "            \"id\":803,\n",
        "            \"main\":\"Clouds\",\n",
        "            \"description\":\"broken clouds\",\n",
        "            \"icon\":\"04d\"\n",
        "         }\n",
        "      ]\n",
        "   } }"
      ],
      "metadata": {
        "id": "VNt5ctWj_n18"
      },
      "execution_count": null,
      "outputs": []
    },
    {
      "cell_type": "code",
      "source": [
        "temp"
      ],
      "metadata": {
        "colab": {
          "base_uri": "https://localhost:8080/"
        },
        "id": "VJ07HsFi_nzj",
        "outputId": "3ee35e10-1159-4f04-bbf0-73b64fb0cecc"
      },
      "execution_count": null,
      "outputs": [
        {
          "output_type": "execute_result",
          "data": {
            "text/plain": [
              "{'lat': 33.44,\n",
              " 'lon': -94.04,\n",
              " 'timezone': 'America/Chicago',\n",
              " 'timezone_offset': -18000,\n",
              " 'current': {'dt': 1684929490,\n",
              "  'sunrise': 1684926645,\n",
              "  'sunset': 1684977332,\n",
              "  'temp': 292.55,\n",
              "  'feels_like': 292.87,\n",
              "  'pressure': 1014,\n",
              "  'humidity': 89,\n",
              "  'dew_point': 290.69,\n",
              "  'uvi': 0.16,\n",
              "  'clouds': 53,\n",
              "  'visibility': 10000,\n",
              "  'wind_speed': 3.13,\n",
              "  'wind_deg': 93,\n",
              "  'wind_gust': 6.71,\n",
              "  'weather': [{'id': 803,\n",
              "    'main': 'Clouds',\n",
              "    'description': 'broken clouds',\n",
              "    'icon': '04d'}]}}"
            ]
          },
          "metadata": {},
          "execution_count": 89
        }
      ]
    },
    {
      "cell_type": "code",
      "source": [
        "temp['timezone']"
      ],
      "metadata": {
        "colab": {
          "base_uri": "https://localhost:8080/",
          "height": 35
        },
        "id": "4sTNMIveLXd4",
        "outputId": "80120211-9233-49ab-cdab-893570714111"
      },
      "execution_count": null,
      "outputs": [
        {
          "output_type": "execute_result",
          "data": {
            "text/plain": [
              "'America/Chicago'"
            ],
            "application/vnd.google.colaboratory.intrinsic+json": {
              "type": "string"
            }
          },
          "metadata": {},
          "execution_count": 97
        }
      ]
    },
    {
      "cell_type": "code",
      "source": [
        "temp['current']['temp']"
      ],
      "metadata": {
        "colab": {
          "base_uri": "https://localhost:8080/"
        },
        "id": "Rgy_2fBn_nww",
        "outputId": "e47976e5-75bd-45be-aec0-78f1a5688b77"
      },
      "execution_count": null,
      "outputs": [
        {
          "output_type": "execute_result",
          "data": {
            "text/plain": [
              "292.55"
            ]
          },
          "metadata": {},
          "execution_count": 104
        }
      ]
    },
    {
      "cell_type": "code",
      "source": [
        "d = {\n",
        "    \"name\": \"srinu\",\n",
        "    \"age\": 21,\n",
        "    \"location\": \"singavaram\"\n",
        "}"
      ],
      "metadata": {
        "id": "slpqLsLZ_nt-"
      },
      "execution_count": null,
      "outputs": []
    },
    {
      "cell_type": "code",
      "source": [
        "d.values()"
      ],
      "metadata": {
        "colab": {
          "base_uri": "https://localhost:8080/"
        },
        "id": "AgWrW62Q_nru",
        "outputId": "425e437d-89a9-4a13-8ab9-86f8e9a59ba0"
      },
      "execution_count": null,
      "outputs": [
        {
          "output_type": "execute_result",
          "data": {
            "text/plain": [
              "dict_values(['srinu', 21, 'singavaram'])"
            ]
          },
          "metadata": {},
          "execution_count": 110
        }
      ]
    },
    {
      "cell_type": "code",
      "source": [
        "d['name']"
      ],
      "metadata": {
        "colab": {
          "base_uri": "https://localhost:8080/",
          "height": 35
        },
        "id": "LoWiwxXx_npD",
        "outputId": "d58d318f-c6c3-4c2b-be5f-cb6ebb19ce76"
      },
      "execution_count": null,
      "outputs": [
        {
          "output_type": "execute_result",
          "data": {
            "text/plain": [
              "'srinu'"
            ],
            "application/vnd.google.colaboratory.intrinsic+json": {
              "type": "string"
            }
          },
          "metadata": {},
          "execution_count": 113
        }
      ]
    },
    {
      "cell_type": "code",
      "source": [
        "temp.values()"
      ],
      "metadata": {
        "colab": {
          "base_uri": "https://localhost:8080/"
        },
        "id": "d83W6yzp_nmL",
        "outputId": "f60fbb77-918a-4d29-eaf3-a93de66ff25b"
      },
      "execution_count": null,
      "outputs": [
        {
          "output_type": "execute_result",
          "data": {
            "text/plain": [
              "dict_values([33.44, -94.04, 'America/Chicago', -18000, {'dt': 1684929490, 'sunrise': 1684926645, 'sunset': 1684977332, 'temp': 292.55, 'feels_like': 292.87, 'pressure': 1014, 'humidity': 89, 'dew_point': 290.69, 'uvi': 0.16, 'clouds': 53, 'visibility': 10000, 'wind_speed': 3.13, 'wind_deg': 93, 'wind_gust': 6.71, 'weather': [{'id': 803, 'main': 'Clouds', 'description': 'broken clouds', 'icon': '04d'}]}])"
            ]
          },
          "metadata": {},
          "execution_count": 114
        }
      ]
    },
    {
      "cell_type": "code",
      "source": [
        "temp.keys()"
      ],
      "metadata": {
        "colab": {
          "base_uri": "https://localhost:8080/"
        },
        "id": "g8cQExs0_njq",
        "outputId": "d2aba044-0a86-4ad3-b5d6-b07de37f24ab"
      },
      "execution_count": null,
      "outputs": [
        {
          "output_type": "execute_result",
          "data": {
            "text/plain": [
              "dict_keys(['lat', 'lon', 'timezone', 'timezone_offset', 'current'])"
            ]
          },
          "metadata": {},
          "execution_count": 115
        }
      ]
    },
    {
      "cell_type": "code",
      "source": [
        "temp.items()"
      ],
      "metadata": {
        "colab": {
          "base_uri": "https://localhost:8080/"
        },
        "id": "S7xxsERw_nhY",
        "outputId": "1d769f92-3e8a-4202-bf5f-0bd96726fda7"
      },
      "execution_count": null,
      "outputs": [
        {
          "output_type": "execute_result",
          "data": {
            "text/plain": [
              "dict_items([('lat', 33.44), ('lon', -94.04), ('timezone', 'America/Chicago'), ('timezone_offset', -18000), ('current', {'dt': 1684929490, 'sunrise': 1684926645, 'sunset': 1684977332, 'temp': 292.55, 'feels_like': 292.87, 'pressure': 1014, 'humidity': 89, 'dew_point': 290.69, 'uvi': 0.16, 'clouds': 53, 'visibility': 10000, 'wind_speed': 3.13, 'wind_deg': 93, 'wind_gust': 6.71, 'weather': [{'id': 803, 'main': 'Clouds', 'description': 'broken clouds', 'icon': '04d'}]})])"
            ]
          },
          "metadata": {},
          "execution_count": 116
        }
      ]
    },
    {
      "cell_type": "code",
      "source": [
        "d"
      ],
      "metadata": {
        "colab": {
          "base_uri": "https://localhost:8080/"
        },
        "id": "PYoDur5F_ne8",
        "outputId": "8fa97393-92c7-4bc2-d990-9953eff412a4"
      },
      "execution_count": null,
      "outputs": [
        {
          "output_type": "execute_result",
          "data": {
            "text/plain": [
              "{'name': 'srinu', 'age': 21, 'location': 'singavaram'}"
            ]
          },
          "metadata": {},
          "execution_count": 117
        }
      ]
    },
    {
      "cell_type": "code",
      "source": [
        "d.get('age')"
      ],
      "metadata": {
        "colab": {
          "base_uri": "https://localhost:8080/"
        },
        "id": "k_Q6fC3X_nch",
        "outputId": "db244f2c-e876-4b7f-c35b-332cbc9643d9"
      },
      "execution_count": null,
      "outputs": [
        {
          "output_type": "execute_result",
          "data": {
            "text/plain": [
              "21"
            ]
          },
          "metadata": {},
          "execution_count": 118
        }
      ]
    },
    {
      "cell_type": "code",
      "source": [
        "d['name']"
      ],
      "metadata": {
        "colab": {
          "base_uri": "https://localhost:8080/",
          "height": 35
        },
        "id": "UBZTnT-u_naH",
        "outputId": "d1b7b5a3-3b06-4f51-9173-8a479539e07a"
      },
      "execution_count": null,
      "outputs": [
        {
          "output_type": "execute_result",
          "data": {
            "text/plain": [
              "'srinu'"
            ],
            "application/vnd.google.colaboratory.intrinsic+json": {
              "type": "string"
            }
          },
          "metadata": {},
          "execution_count": 119
        }
      ]
    },
    {
      "cell_type": "code",
      "source": [
        "d.clear()"
      ],
      "metadata": {
        "id": "6fLqasgT_nXl"
      },
      "execution_count": null,
      "outputs": []
    },
    {
      "cell_type": "code",
      "source": [
        "d = {\n",
        "    \"name\": \"srinu\",\n",
        "    \"age\": \"21\",\n",
        "    \"location\": \"bangalore\"\n",
        "}\n"
      ],
      "metadata": {
        "id": "AwvPjiO0OjdV"
      },
      "execution_count": null,
      "outputs": []
    },
    {
      "cell_type": "code",
      "source": [
        "d"
      ],
      "metadata": {
        "id": "pHo1UssAOjbI",
        "outputId": "9b26c684-dc28-41aa-af58-9fd6ea145ede",
        "colab": {
          "base_uri": "https://localhost:8080/"
        }
      },
      "execution_count": null,
      "outputs": [
        {
          "output_type": "execute_result",
          "data": {
            "text/plain": [
              "{'name': 'srinu', 'age': '21', 'location': 'bangalore'}"
            ]
          },
          "metadata": {},
          "execution_count": 130
        }
      ]
    },
    {
      "cell_type": "code",
      "source": [
        "d.popitem(1)"
      ],
      "metadata": {
        "id": "5Z_fm6ksOjYK",
        "outputId": "7ed6f839-bf74-4c64-f5d9-2b873a142e32",
        "colab": {
          "base_uri": "https://localhost:8080/"
        }
      },
      "execution_count": null,
      "outputs": [
        {
          "output_type": "execute_result",
          "data": {
            "text/plain": [
              "('location', 'bangalore')"
            ]
          },
          "metadata": {},
          "execution_count": 131
        }
      ]
    },
    {
      "cell_type": "code",
      "source": [
        "d"
      ],
      "metadata": {
        "id": "-2hMh9ucOjVm",
        "outputId": "2cc11183-34e6-477a-cfe2-ae7271390455",
        "colab": {
          "base_uri": "https://localhost:8080/"
        }
      },
      "execution_count": null,
      "outputs": [
        {
          "output_type": "execute_result",
          "data": {
            "text/plain": [
              "{'name': 'srinu', 'age': '21'}"
            ]
          },
          "metadata": {},
          "execution_count": 134
        }
      ]
    },
    {
      "cell_type": "code",
      "source": [
        "isinstance(d,dict)"
      ],
      "metadata": {
        "id": "FK8JqeAoOjTJ",
        "outputId": "b692fc0c-e3c1-4e99-fd6c-fe90d8e93bc4",
        "colab": {
          "base_uri": "https://localhost:8080/"
        }
      },
      "execution_count": null,
      "outputs": [
        {
          "output_type": "execute_result",
          "data": {
            "text/plain": [
              "True"
            ]
          },
          "metadata": {},
          "execution_count": 135
        }
      ]
    },
    {
      "cell_type": "code",
      "source": [
        "isinstance(d['age'],int)"
      ],
      "metadata": {
        "id": "sPJvBq2-OjQn",
        "outputId": "50813790-cbb4-41a2-9461-76cca936e7ca",
        "colab": {
          "base_uri": "https://localhost:8080/"
        }
      },
      "execution_count": null,
      "outputs": [
        {
          "output_type": "execute_result",
          "data": {
            "text/plain": [
              "False"
            ]
          },
          "metadata": {},
          "execution_count": 140
        }
      ]
    },
    {
      "cell_type": "code",
      "source": [],
      "metadata": {
        "id": "Vb0PagJHOjN5"
      },
      "execution_count": null,
      "outputs": []
    },
    {
      "cell_type": "code",
      "source": [],
      "metadata": {
        "id": "pPzKkY6YOjLZ"
      },
      "execution_count": null,
      "outputs": []
    },
    {
      "cell_type": "code",
      "source": [],
      "metadata": {
        "id": "CWn1pbANOjI8"
      },
      "execution_count": null,
      "outputs": []
    },
    {
      "cell_type": "code",
      "source": [],
      "metadata": {
        "id": "C4i5R8UNOjGc"
      },
      "execution_count": null,
      "outputs": []
    },
    {
      "cell_type": "code",
      "source": [],
      "metadata": {
        "id": "TAHcHru8OjD0"
      },
      "execution_count": null,
      "outputs": []
    },
    {
      "cell_type": "code",
      "source": [],
      "metadata": {
        "id": "qLrCIcIJOjBT"
      },
      "execution_count": null,
      "outputs": []
    },
    {
      "cell_type": "code",
      "source": [],
      "metadata": {
        "id": "Bu7RyPliOi-t"
      },
      "execution_count": null,
      "outputs": []
    },
    {
      "cell_type": "code",
      "source": [],
      "metadata": {
        "id": "HLcmUt7EOi8T"
      },
      "execution_count": null,
      "outputs": []
    },
    {
      "cell_type": "code",
      "source": [],
      "metadata": {
        "id": "C4HOk-RHOi5t"
      },
      "execution_count": null,
      "outputs": []
    },
    {
      "cell_type": "code",
      "source": [],
      "metadata": {
        "id": "8qGtKc4vOi3Y"
      },
      "execution_count": null,
      "outputs": []
    },
    {
      "cell_type": "code",
      "source": [],
      "metadata": {
        "id": "jPC9EcbGOi0-"
      },
      "execution_count": null,
      "outputs": []
    },
    {
      "cell_type": "code",
      "source": [],
      "metadata": {
        "id": "ILwvBMJlOiyh"
      },
      "execution_count": null,
      "outputs": []
    },
    {
      "cell_type": "code",
      "source": [],
      "metadata": {
        "id": "bo3hXH6YOiwF"
      },
      "execution_count": null,
      "outputs": []
    }
  ]
}